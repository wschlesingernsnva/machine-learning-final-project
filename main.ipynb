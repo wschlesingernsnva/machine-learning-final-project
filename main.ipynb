{
 "cells": [
  {
   "cell_type": "markdown",
   "metadata": {},
   "source": [
    "# Milk\n",
    "Dataset obtained from https://www.kaggle.com/datasets/cpluzshrijayan/milkquality?select=milknew.csv"
   ]
  },
  {
   "cell_type": "code",
   "execution_count": 1,
   "metadata": {},
   "outputs": [],
   "source": [
    "import numpy as np\n",
    "import pandas as pd\n",
    "from sklearn.model_selection import train_test_split\n",
    "from sklearn import metrics\n",
    "from sklearn.neighbors import KNeighborsClassifier\n",
    "\n",
    "from itertools import combinations\n",
    "\n",
    "import numpy.typing as npt\n",
    "from typing import Final"
   ]
  },
  {
   "cell_type": "code",
   "execution_count": 2,
   "metadata": {},
   "outputs": [],
   "source": [
    "milkDF: pd.DataFrame = pd.read_csv(\"milk.csv\")\n",
    "\n",
    "# Fix typos in column headers\n",
    "milkDF.columns = [\"pH\", \"Temperature\", \"Taste\", \"Odor\", \"Fat\", \"Turbidity\", \"Color\", \"Grade\"]"
   ]
  },
  {
   "cell_type": "code",
   "execution_count": 3,
   "metadata": {},
   "outputs": [
    {
     "data": {
      "text/html": [
       "<div>\n",
       "<style scoped>\n",
       "    .dataframe tbody tr th:only-of-type {\n",
       "        vertical-align: middle;\n",
       "    }\n",
       "\n",
       "    .dataframe tbody tr th {\n",
       "        vertical-align: top;\n",
       "    }\n",
       "\n",
       "    .dataframe thead th {\n",
       "        text-align: right;\n",
       "    }\n",
       "</style>\n",
       "<table border=\"1\" class=\"dataframe\">\n",
       "  <thead>\n",
       "    <tr style=\"text-align: right;\">\n",
       "      <th></th>\n",
       "      <th>pH</th>\n",
       "      <th>Temperature</th>\n",
       "      <th>Taste</th>\n",
       "      <th>Odor</th>\n",
       "      <th>Fat</th>\n",
       "      <th>Turbidity</th>\n",
       "      <th>Color</th>\n",
       "      <th>Grade</th>\n",
       "    </tr>\n",
       "  </thead>\n",
       "  <tbody>\n",
       "    <tr>\n",
       "      <th>0</th>\n",
       "      <td>6.6</td>\n",
       "      <td>35</td>\n",
       "      <td>1</td>\n",
       "      <td>0</td>\n",
       "      <td>1</td>\n",
       "      <td>0</td>\n",
       "      <td>254</td>\n",
       "      <td>high</td>\n",
       "    </tr>\n",
       "    <tr>\n",
       "      <th>1</th>\n",
       "      <td>6.6</td>\n",
       "      <td>36</td>\n",
       "      <td>0</td>\n",
       "      <td>1</td>\n",
       "      <td>0</td>\n",
       "      <td>1</td>\n",
       "      <td>253</td>\n",
       "      <td>high</td>\n",
       "    </tr>\n",
       "    <tr>\n",
       "      <th>2</th>\n",
       "      <td>8.5</td>\n",
       "      <td>70</td>\n",
       "      <td>1</td>\n",
       "      <td>1</td>\n",
       "      <td>1</td>\n",
       "      <td>1</td>\n",
       "      <td>246</td>\n",
       "      <td>low</td>\n",
       "    </tr>\n",
       "    <tr>\n",
       "      <th>3</th>\n",
       "      <td>9.5</td>\n",
       "      <td>34</td>\n",
       "      <td>1</td>\n",
       "      <td>1</td>\n",
       "      <td>0</td>\n",
       "      <td>1</td>\n",
       "      <td>255</td>\n",
       "      <td>low</td>\n",
       "    </tr>\n",
       "    <tr>\n",
       "      <th>4</th>\n",
       "      <td>6.6</td>\n",
       "      <td>37</td>\n",
       "      <td>0</td>\n",
       "      <td>0</td>\n",
       "      <td>0</td>\n",
       "      <td>0</td>\n",
       "      <td>255</td>\n",
       "      <td>medium</td>\n",
       "    </tr>\n",
       "  </tbody>\n",
       "</table>\n",
       "</div>"
      ],
      "text/plain": [
       "    pH  Temperature  Taste  Odor  Fat  Turbidity  Color   Grade\n",
       "0  6.6           35      1     0    1          0    254    high\n",
       "1  6.6           36      0     1    0          1    253    high\n",
       "2  8.5           70      1     1    1          1    246     low\n",
       "3  9.5           34      1     1    0          1    255     low\n",
       "4  6.6           37      0     0    0          0    255  medium"
      ]
     },
     "execution_count": 3,
     "metadata": {},
     "output_type": "execute_result"
    }
   ],
   "source": [
    "milkDF.head()"
   ]
  },
  {
   "cell_type": "code",
   "execution_count": 4,
   "metadata": {},
   "outputs": [],
   "source": [
    "TARGET_COLUMN_NAME: Final[str] = \"Grade\"\n",
    "TARGET_SERIES: Final[\"pd.Series[str]\"] = milkDF[TARGET_COLUMN_NAME].astype(str)\n",
    "\n",
    "features: list[str] = [columnName for columnName in milkDF.columns if columnName != TARGET_COLUMN_NAME]\n",
    "featureCombinations: list[list[str]] = []\n",
    "for thisCombinationList in [list(combinations(features, featureCount)) for featureCount in range(1, len(features) + 1)]:\n",
    "    featureCombinations.extend([list(thisCombination) for thisCombination in thisCombinationList])"
   ]
  },
  {
   "cell_type": "code",
   "execution_count": 5,
   "metadata": {},
   "outputs": [],
   "source": [
    "NEIGHBOR_COUNT_MIN: Final[int] = 1\n",
    "NEIGHBOR_COUNT_MAX: Final[int] = 40\n",
    "\n",
    "def trainModel(columns: list[str]) -> tuple[KNeighborsClassifier, int, np.float64]:\n",
    "    featureDF: pd.DataFrame = milkDF[columns].astype(float)\n",
    "\n",
    "    trainX: pd.DataFrame\n",
    "    testX: pd.DataFrame\n",
    "    trainY: pd.DataFrame\n",
    "    testY: pd.DataFrame\n",
    "    trainX, testX, trainY, testY = train_test_split(featureDF, TARGET_SERIES)\n",
    "\n",
    "    models: list[KNeighborsClassifier] = []\n",
    "    modelAccuracies: npt.NDArray[np.float64] = np.zeros(NEIGHBOR_COUNT_MAX - NEIGHBOR_COUNT_MIN + 1, np.float64)\n",
    "\n",
    "    for thisNeighborCount in range(NEIGHBOR_COUNT_MIN, NEIGHBOR_COUNT_MAX + 1):\n",
    "        thisModel = KNeighborsClassifier(thisNeighborCount).fit(trainX, trainY)\n",
    "        models.append(thisModel)\n",
    "        modelAccuracies[thisNeighborCount - NEIGHBOR_COUNT_MIN] = np.float64(metrics.accuracy_score(testY, thisModel.predict(testX)))\n",
    "    \n",
    "    bestModelIndex: int = int(modelAccuracies.argmax())\n",
    "    bestModel: KNeighborsClassifier = models[bestModelIndex]\n",
    "    return (bestModel, bestModelIndex + NEIGHBOR_COUNT_MIN, modelAccuracies[bestModelIndex])"
   ]
  },
  {
   "cell_type": "code",
   "execution_count": 6,
   "metadata": {},
   "outputs": [],
   "source": [
    "allModels: list[tuple[list[str], KNeighborsClassifier, int]] = []\n",
    "allModelAccuracies: npt.NDArray[np.float64] = np.zeros(len(featureCombinations), np.float64)\n",
    "\n",
    "for thisFeatureCombinationIndex, thisFeatureCombination in enumerate(featureCombinations):\n",
    "    model: KNeighborsClassifier\n",
    "    neighborCount: int\n",
    "    accuracy: np.float64\n",
    "    model, neighborCount, accuracy = trainModel(thisFeatureCombination)\n",
    "    allModels.append((thisFeatureCombination, model, neighborCount))\n",
    "    allModelAccuracies[thisFeatureCombinationIndex] = accuracy\n",
    "\n",
    "finalBestModelIndex: int = int(allModelAccuracies.argmax())\n",
    "finalBestModelInfo: tuple[list[str], KNeighborsClassifier, int] = allModels[finalBestModelIndex]\n",
    "finalBestModelColumns: list[str] = finalBestModelInfo[0]\n",
    "finalBestModel: KNeighborsClassifier = finalBestModelInfo[1]\n",
    "finalBestModelNeighborCount: int = finalBestModelInfo[2]\n",
    "finalBestModelAccuracy: np.float64 = allModelAccuracies[finalBestModelIndex]"
   ]
  },
  {
   "cell_type": "code",
   "execution_count": 7,
   "metadata": {},
   "outputs": [
    {
     "name": "stdout",
     "output_type": "stream",
     "text": [
      "Most accurate model:\n",
      "Columns: pH, Temperature, Taste, Odor, Fat, Turbidity\n",
      "K: 1\n",
      "Accuracy: 1.0\n"
     ]
    }
   ],
   "source": [
    "print(\"Most accurate model:\")\n",
    "\n",
    "print(f\"Columns: {finalBestModelColumns[0]}\", end=\"\")\n",
    "for thisColumn in finalBestModelColumns[1:]:\n",
    "    print(\", \" + thisColumn, end=\"\")\n",
    "print()\n",
    "\n",
    "print(f\"K: {finalBestModelNeighborCount}\")\n",
    "\n",
    "print(f\"Accuracy: {finalBestModelAccuracy}\")"
   ]
  }
 ],
 "metadata": {
  "kernelspec": {
   "display_name": "Python 3",
   "language": "python",
   "name": "python3"
  },
  "language_info": {
   "codemirror_mode": {
    "name": "ipython",
    "version": 3
   },
   "file_extension": ".py",
   "mimetype": "text/x-python",
   "name": "python",
   "nbconvert_exporter": "python",
   "pygments_lexer": "ipython3",
   "version": "3.12.2"
  }
 },
 "nbformat": 4,
 "nbformat_minor": 2
}
